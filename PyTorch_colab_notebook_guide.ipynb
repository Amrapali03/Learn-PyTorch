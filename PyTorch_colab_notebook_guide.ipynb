{
  "nbformat": 4,
  "nbformat_minor": 0,
  "metadata": {
    "colab": {
      "provenance": [],
      "gpuType": "T4",
      "toc_visible": true,
      "include_colab_link": true
    },
    "kernelspec": {
      "name": "python3",
      "display_name": "Python 3"
    },
    "language_info": {
      "name": "python"
    },
    "accelerator": "GPU"
  },
  "cells": [
    {
      "cell_type": "markdown",
      "metadata": {
        "id": "view-in-github",
        "colab_type": "text"
      },
      "source": [
        "<a href=\"https://colab.research.google.com/github/Amrapali03/Learn-PyTorch/blob/main/PyTorch_colab_notebook_guide.ipynb\" target=\"_parent\"><img src=\"https://colab.research.google.com/assets/colab-badge.svg\" alt=\"Open In Colab\"/></a>"
      ]
    },
    {
      "cell_type": "markdown",
      "source": [
        "# Recitation 0E: Intro to Google Colab"
      ],
      "metadata": {
        "id": "uB4_VwQvr5sK"
      }
    },
    {
      "cell_type": "markdown",
      "source": [
        "# Basics\n",
        "\n",
        "#### Google Colab\n",
        "\n",
        "- Colab is developed by Google Research and provides a Jupyter Notebook-style Python execution environment accessible directly through a web browser\n",
        "- Main benefit is its computing resources\n",
        "\n",
        "\n",
        "#### Accessing Colab\n",
        "- Go to https://colab.research.google.com/ to create and access your notebooks\n",
        "- Directly from Google Drive"
      ],
      "metadata": {
        "id": "Ct1AjAACs1oP"
      }
    },
    {
      "cell_type": "markdown",
      "source": [
        "# Bash and Magic Commands\n",
        "\n",
        "Colab runs in a linux environemnt and you can access the terminal with !\n",
        "\n",
        "\n"
      ],
      "metadata": {
        "id": "_bPL38VMfApa"
      }
    },
    {
      "cell_type": "markdown",
      "source": [
        "#### Bash Commands"
      ],
      "metadata": {
        "id": "zQ4XcLuWuvhL"
      }
    },
    {
      "cell_type": "code",
      "source": [
        "!nvidia-smi"
      ],
      "metadata": {
        "id": "YQCYjjM1u170",
        "colab": {
          "base_uri": "https://localhost:8080/"
        },
        "outputId": "9be0f1b2-a3b4-4dbb-e4ec-859befa26f95"
      },
      "execution_count": null,
      "outputs": [
        {
          "output_type": "stream",
          "name": "stdout",
          "text": [
            "Tue May 21 19:54:00 2024       \n",
            "+---------------------------------------------------------------------------------------+\n",
            "| NVIDIA-SMI 535.104.05             Driver Version: 535.104.05   CUDA Version: 12.2     |\n",
            "|-----------------------------------------+----------------------+----------------------+\n",
            "| GPU  Name                 Persistence-M | Bus-Id        Disp.A | Volatile Uncorr. ECC |\n",
            "| Fan  Temp   Perf          Pwr:Usage/Cap |         Memory-Usage | GPU-Util  Compute M. |\n",
            "|                                         |                      |               MIG M. |\n",
            "|=========================================+======================+======================|\n",
            "|   0  Tesla T4                       Off | 00000000:00:04.0 Off |                    0 |\n",
            "| N/A   61C    P8              10W /  70W |      0MiB / 15360MiB |      0%      Default |\n",
            "|                                         |                      |                  N/A |\n",
            "+-----------------------------------------+----------------------+----------------------+\n",
            "                                                                                         \n",
            "+---------------------------------------------------------------------------------------+\n",
            "| Processes:                                                                            |\n",
            "|  GPU   GI   CI        PID   Type   Process name                            GPU Memory |\n",
            "|        ID   ID                                                             Usage      |\n",
            "|=======================================================================================|\n",
            "|  No running processes found                                                           |\n",
            "+---------------------------------------------------------------------------------------+\n"
          ]
        }
      ]
    },
    {
      "cell_type": "code",
      "source": [
        "!pip install torch\n",
        "import torch"
      ],
      "metadata": {
        "id": "8Sr9R0e8u5u-",
        "colab": {
          "base_uri": "https://localhost:8080/"
        },
        "outputId": "b594ba37-0502-463d-da83-0943d27250e3"
      },
      "execution_count": null,
      "outputs": [
        {
          "output_type": "stream",
          "name": "stdout",
          "text": [
            "Requirement already satisfied: torch in /usr/local/lib/python3.10/dist-packages (2.3.0+cu121)\n",
            "Requirement already satisfied: filelock in /usr/local/lib/python3.10/dist-packages (from torch) (3.14.0)\n",
            "Requirement already satisfied: typing-extensions>=4.8.0 in /usr/local/lib/python3.10/dist-packages (from torch) (4.11.0)\n",
            "Requirement already satisfied: sympy in /usr/local/lib/python3.10/dist-packages (from torch) (1.12)\n",
            "Requirement already satisfied: networkx in /usr/local/lib/python3.10/dist-packages (from torch) (3.3)\n",
            "Requirement already satisfied: jinja2 in /usr/local/lib/python3.10/dist-packages (from torch) (3.1.4)\n",
            "Requirement already satisfied: fsspec in /usr/local/lib/python3.10/dist-packages (from torch) (2023.6.0)\n",
            "Collecting nvidia-cuda-nvrtc-cu12==12.1.105 (from torch)\n",
            "  Using cached nvidia_cuda_nvrtc_cu12-12.1.105-py3-none-manylinux1_x86_64.whl (23.7 MB)\n",
            "Collecting nvidia-cuda-runtime-cu12==12.1.105 (from torch)\n",
            "  Using cached nvidia_cuda_runtime_cu12-12.1.105-py3-none-manylinux1_x86_64.whl (823 kB)\n",
            "Collecting nvidia-cuda-cupti-cu12==12.1.105 (from torch)\n",
            "  Using cached nvidia_cuda_cupti_cu12-12.1.105-py3-none-manylinux1_x86_64.whl (14.1 MB)\n",
            "Collecting nvidia-cudnn-cu12==8.9.2.26 (from torch)\n",
            "  Using cached nvidia_cudnn_cu12-8.9.2.26-py3-none-manylinux1_x86_64.whl (731.7 MB)\n",
            "Collecting nvidia-cublas-cu12==12.1.3.1 (from torch)\n",
            "  Using cached nvidia_cublas_cu12-12.1.3.1-py3-none-manylinux1_x86_64.whl (410.6 MB)\n",
            "Collecting nvidia-cufft-cu12==11.0.2.54 (from torch)\n",
            "  Using cached nvidia_cufft_cu12-11.0.2.54-py3-none-manylinux1_x86_64.whl (121.6 MB)\n",
            "Collecting nvidia-curand-cu12==10.3.2.106 (from torch)\n",
            "  Using cached nvidia_curand_cu12-10.3.2.106-py3-none-manylinux1_x86_64.whl (56.5 MB)\n",
            "Collecting nvidia-cusolver-cu12==11.4.5.107 (from torch)\n",
            "  Using cached nvidia_cusolver_cu12-11.4.5.107-py3-none-manylinux1_x86_64.whl (124.2 MB)\n",
            "Collecting nvidia-cusparse-cu12==12.1.0.106 (from torch)\n",
            "  Using cached nvidia_cusparse_cu12-12.1.0.106-py3-none-manylinux1_x86_64.whl (196.0 MB)\n",
            "Collecting nvidia-nccl-cu12==2.20.5 (from torch)\n",
            "  Using cached nvidia_nccl_cu12-2.20.5-py3-none-manylinux2014_x86_64.whl (176.2 MB)\n",
            "Collecting nvidia-nvtx-cu12==12.1.105 (from torch)\n",
            "  Using cached nvidia_nvtx_cu12-12.1.105-py3-none-manylinux1_x86_64.whl (99 kB)\n",
            "Requirement already satisfied: triton==2.3.0 in /usr/local/lib/python3.10/dist-packages (from torch) (2.3.0)\n",
            "Collecting nvidia-nvjitlink-cu12 (from nvidia-cusolver-cu12==11.4.5.107->torch)\n",
            "  Downloading nvidia_nvjitlink_cu12-12.5.40-py3-none-manylinux2014_x86_64.whl (21.3 MB)\n",
            "\u001b[2K     \u001b[90m━━━━━━━━━━━━━━━━━━━━━━━━━━━━━━━━━━━━━━━━\u001b[0m \u001b[32m21.3/21.3 MB\u001b[0m \u001b[31m52.0 MB/s\u001b[0m eta \u001b[36m0:00:00\u001b[0m\n",
            "\u001b[?25hRequirement already satisfied: MarkupSafe>=2.0 in /usr/local/lib/python3.10/dist-packages (from jinja2->torch) (2.1.5)\n",
            "Requirement already satisfied: mpmath>=0.19 in /usr/local/lib/python3.10/dist-packages (from sympy->torch) (1.3.0)\n",
            "Installing collected packages: nvidia-nvtx-cu12, nvidia-nvjitlink-cu12, nvidia-nccl-cu12, nvidia-curand-cu12, nvidia-cufft-cu12, nvidia-cuda-runtime-cu12, nvidia-cuda-nvrtc-cu12, nvidia-cuda-cupti-cu12, nvidia-cublas-cu12, nvidia-cusparse-cu12, nvidia-cudnn-cu12, nvidia-cusolver-cu12\n",
            "Successfully installed nvidia-cublas-cu12-12.1.3.1 nvidia-cuda-cupti-cu12-12.1.105 nvidia-cuda-nvrtc-cu12-12.1.105 nvidia-cuda-runtime-cu12-12.1.105 nvidia-cudnn-cu12-8.9.2.26 nvidia-cufft-cu12-11.0.2.54 nvidia-curand-cu12-10.3.2.106 nvidia-cusolver-cu12-11.4.5.107 nvidia-cusparse-cu12-12.1.0.106 nvidia-nccl-cu12-2.20.5 nvidia-nvjitlink-cu12-12.5.40 nvidia-nvtx-cu12-12.1.105\n"
          ]
        }
      ]
    },
    {
      "cell_type": "code",
      "source": [
        "!ls\n",
        "# !cd ..\n",
        "# !mkdir"
      ],
      "metadata": {
        "id": "Pku_LrPQu8dJ",
        "colab": {
          "base_uri": "https://localhost:8080/"
        },
        "outputId": "14d3fd9d-e968-4dfb-8e8b-3379e198807f"
      },
      "execution_count": null,
      "outputs": [
        {
          "output_type": "stream",
          "name": "stdout",
          "text": [
            "sample_data\n"
          ]
        }
      ]
    },
    {
      "cell_type": "markdown",
      "source": [
        "#### Magic commands\n"
      ],
      "metadata": {
        "id": "a0DU1ucAuxbB"
      }
    },
    {
      "cell_type": "code",
      "source": [
        "# %time\n",
        "# %env\n",
        "# %matplotlib inline\n",
        "# %debug"
      ],
      "metadata": {
        "id": "87OIbLYkuR9k",
        "colab": {
          "base_uri": "https://localhost:8080/"
        },
        "outputId": "63514895-0324-4591-9eb6-f9adef5516e9"
      },
      "execution_count": null,
      "outputs": [
        {
          "output_type": "stream",
          "name": "stderr",
          "text": [
            "ERROR:root:No traceback has been produced, nothing to debug.\n"
          ]
        }
      ]
    },
    {
      "cell_type": "markdown",
      "source": [
        "# Runtime\n"
      ],
      "metadata": {
        "id": "HSUq5MPffR-K"
      }
    },
    {
      "cell_type": "code",
      "source": [
        "!nvidia-smi"
      ],
      "metadata": {
        "id": "KFN_nsKSghRl",
        "colab": {
          "base_uri": "https://localhost:8080/"
        },
        "outputId": "e630ff9f-e3b4-4222-81a3-ce6efcfa3fd6"
      },
      "execution_count": null,
      "outputs": [
        {
          "output_type": "stream",
          "name": "stdout",
          "text": [
            "Tue May 21 20:12:14 2024       \n",
            "+---------------------------------------------------------------------------------------+\n",
            "| NVIDIA-SMI 535.104.05             Driver Version: 535.104.05   CUDA Version: 12.2     |\n",
            "|-----------------------------------------+----------------------+----------------------+\n",
            "| GPU  Name                 Persistence-M | Bus-Id        Disp.A | Volatile Uncorr. ECC |\n",
            "| Fan  Temp   Perf          Pwr:Usage/Cap |         Memory-Usage | GPU-Util  Compute M. |\n",
            "|                                         |                      |               MIG M. |\n",
            "|=========================================+======================+======================|\n",
            "|   0  Tesla T4                       Off | 00000000:00:04.0 Off |                    0 |\n",
            "| N/A   39C    P8               9W /  70W |      0MiB / 15360MiB |      0%      Default |\n",
            "|                                         |                      |                  N/A |\n",
            "+-----------------------------------------+----------------------+----------------------+\n",
            "                                                                                         \n",
            "+---------------------------------------------------------------------------------------+\n",
            "| Processes:                                                                            |\n",
            "|  GPU   GI   CI        PID   Type   Process name                            GPU Memory |\n",
            "|        ID   ID                                                             Usage      |\n",
            "|=======================================================================================|\n",
            "|  No running processes found                                                           |\n",
            "+---------------------------------------------------------------------------------------+\n"
          ]
        }
      ]
    },
    {
      "cell_type": "code",
      "source": [
        "import torch\n",
        "DEVICE = torch.device(\"cuda\" if torch.cuda.is_available() else \"cpu\")\n",
        "print(\"Device: \", DEVICE)"
      ],
      "metadata": {
        "id": "rCJ9jZG9giS6",
        "colab": {
          "base_uri": "https://localhost:8080/"
        },
        "outputId": "f41e2bcf-9402-42f7-989e-315f8765a7df"
      },
      "execution_count": null,
      "outputs": [
        {
          "output_type": "stream",
          "name": "stdout",
          "text": [
            "Device:  cpu\n"
          ]
        }
      ]
    },
    {
      "cell_type": "markdown",
      "source": [
        "### Utilizing Free GPU/TPU Resources\n",
        "\n",
        "#### Changing Runtime\n",
        "- Runtime > Change runtime type\n",
        "- Select GPU/TPU and High-RAM option\n",
        "\n",
        "\n",
        "\n",
        "#### GPUs: Training Time of ResNet50\n",
        "- T4: 1x Speedup (Baseline)\n",
        "- V100: 3.6x Speedup (Comparing to T4)\n",
        "- A100: 10x Speedup (Comparing to T4)\n",
        "- TPU: TPU is a completely different architecture and require many training constraints"
      ],
      "metadata": {
        "id": "tWnsVaFXfQL9"
      }
    },
    {
      "cell_type": "markdown",
      "source": [
        "# Managing your files"
      ],
      "metadata": {
        "id": "yTDUmmmwg1wd"
      }
    },
    {
      "cell_type": "markdown",
      "source": [
        "### Mounting to Google Drive\n",
        "\n",
        "Very useful as you lose all files after the runtime ends"
      ],
      "metadata": {
        "id": "3eHPv51z1pgT"
      }
    },
    {
      "cell_type": "code",
      "source": [
        "from google.colab import drive\n",
        "drive.mount(\"/content/drive\")"
      ],
      "metadata": {
        "id": "ioFKRGgvg3Wt",
        "colab": {
          "base_uri": "https://localhost:8080/"
        },
        "outputId": "2ef4b223-a2a6-455c-d096-ae80cf3ee2b9"
      },
      "execution_count": null,
      "outputs": [
        {
          "output_type": "stream",
          "name": "stdout",
          "text": [
            "Mounted at /content/drive\n"
          ]
        }
      ]
    },
    {
      "cell_type": "markdown",
      "source": [
        "### Saving/Loading files - Model checkpoints\n",
        "\n",
        "Moving files to and from Google Drive"
      ],
      "metadata": {
        "id": "RpFg5Urs1X6a"
      }
    },
    {
      "cell_type": "code",
      "source": [
        "import torch\n",
        "import torch.nn as nn\n",
        "\n",
        "class MLP(nn.Module):\n",
        "\n",
        "    def __init__(self, size):\n",
        "        super(MLP, self).__init__()\n",
        "\n",
        "        self.layers = []\n",
        "        for in_dim, out_dim in zip(size[:-2], size[1:-1]):\n",
        "          self.layers.extend([\n",
        "              nn.Linear(in_dim, out_dim),\n",
        "              nn.ReLU(),\n",
        "              nn.BatchNorm1d(out_dim),\n",
        "              nn.Dropout(0.5),\n",
        "          ])\n",
        "        self.layers.append(nn.Linear(size[-2], size[-1]))\n",
        "        self.model = nn.Sequential(*self.layers)\n",
        "        self.model.apply(self.init_param)\n",
        "\n",
        "    def init_param(self, param):\n",
        "      if type(param) == nn.Linear:\n",
        "        nn.init.xavier_uniform_(param.weight)\n",
        "\n",
        "    def forward(self, x):\n",
        "      return self.model(x)\n",
        "\n",
        "model = MLP([40, 2048, 512, 256, 71])"
      ],
      "metadata": {
        "id": "AZBdiHqF1XoM"
      },
      "execution_count": null,
      "outputs": []
    },
    {
      "cell_type": "code",
      "source": [
        "!mkdir /content/drive/MyDrive/checkpoints\n",
        "\n",
        "MODEL_SAVE_PATH = \"/content/drive/MyDrive/checkpoints/checkpoint.pt\"\n",
        "\n",
        "torch.save({\n",
        "  'epoch': 10,\n",
        "  'model_state_dict': model.state_dict(),\n",
        "  'loss': 0.001,\n",
        "}, MODEL_SAVE_PATH)"
      ],
      "metadata": {
        "id": "3MJwUseIqfSy"
      },
      "execution_count": null,
      "outputs": []
    },
    {
      "cell_type": "markdown",
      "source": [
        "### Managing dataset\n",
        "\n",
        "Obtaining dataset\n",
        "- Kaggle Command\n",
        "- Manually uploading\n",
        "\n",
        "DO NOT directly store dataset in Google Drive, instead...\n",
        "- Download/uploading dataset every time\n",
        "- Move dataset from Google Drive into content folder\n",
        "- Connect to GCP or AWS\n"
      ],
      "metadata": {
        "id": "dk83lcff2A7z"
      }
    },
    {
      "cell_type": "code",
      "source": [
        "#downloads dataset from kaggle\n",
        "\n",
        "!pip install --upgrade --force-reinstall --no-deps kaggle==1.5.8\n",
        "!mkdir /root/.kaggle\n",
        "\n",
        "with open(\"/root/.kaggle/kaggle.json\", \"w+\") as f:\n",
        "    f.write('{\"username\":\"amrapalisamanta\",\"key\":\"<API KEY>\"}')\n",
        "    # Put your kaggle username & key here\n",
        "!chmod 600 /root/.kaggle/kaggle.json\n",
        "\n",
        "! kaggle competitions download -c 11785-sp23-intro-to-colab\n",
        "! unzip /content/competitions/11785-sp23-intro-to-colab/11785-sp23-intro-to-colab.zip -d /content"
      ],
      "metadata": {
        "id": "FMkG8v1CrAsi",
        "colab": {
          "base_uri": "https://localhost:8080/"
        },
        "outputId": "9be4f4a3-fc2d-47fd-994c-e516d1680733"
      },
      "execution_count": null,
      "outputs": [
        {
          "output_type": "stream",
          "name": "stdout",
          "text": [
            "Collecting kaggle==1.5.8\n",
            "  Using cached kaggle-1.5.8-py3-none-any.whl\n",
            "Installing collected packages: kaggle\n",
            "  Attempting uninstall: kaggle\n",
            "    Found existing installation: kaggle 1.5.8\n",
            "    Uninstalling kaggle-1.5.8:\n",
            "      Successfully uninstalled kaggle-1.5.8\n",
            "Successfully installed kaggle-1.5.8\n",
            "mkdir: cannot create directory ‘/root/.kaggle’: File exists\n",
            "Traceback (most recent call last):\n",
            "  File \"/usr/local/bin/kaggle\", line 8, in <module>\n",
            "    sys.exit(main())\n",
            "  File \"/usr/local/lib/python3.10/dist-packages/kaggle/cli.py\", line 67, in main\n",
            "    out = args.func(**command_args)\n",
            "  File \"/usr/local/lib/python3.10/dist-packages/kaggle/api/kaggle_api_extended.py\", line 757, in competition_download_cli\n",
            "    self.competition_download_files(competition, path, force,\n",
            "  File \"/usr/local/lib/python3.10/dist-packages/kaggle/api/kaggle_api_extended.py\", line 720, in competition_download_files\n",
            "    url = response.retries.history[0].redirect_location.split('?')[0]\n",
            "IndexError: tuple index out of range\n",
            "unzip:  cannot find or open /content/competitions/11785-sp23-intro-to-colab/11785-sp23-intro-to-colab.zip, /content/competitions/11785-sp23-intro-to-colab/11785-sp23-intro-to-colab.zip.zip or /content/competitions/11785-sp23-intro-to-colab/11785-sp23-intro-to-colab.zip.ZIP.\n"
          ]
        }
      ]
    },
    {
      "cell_type": "markdown",
      "source": [
        "### Restart session vs restart runtime\n",
        "\n",
        "\n",
        "Restart session\n",
        "- Runtime > Restart session\n",
        "- Clears all session variables\n",
        "\n",
        "Restart runtime\n",
        "- Runtime > Disconnect and delete runtime\n",
        "- Deletes session\n",
        "- Lose files in content folder\n",
        "- Switching GPUs will also delete current runtime"
      ],
      "metadata": {
        "id": "YK1umNzC0zRI"
      }
    },
    {
      "cell_type": "markdown",
      "source": [
        "# Colab Pro\n",
        "\n",
        "- Longer session runtime, reducing risk of timeout\n",
        "- Priority access to GPU\n",
        "- Increased storage\n",
        "- Supposedly background execution\n"
      ],
      "metadata": {
        "id": "QxfttZt83bzK"
      }
    },
    {
      "cell_type": "code",
      "source": [],
      "metadata": {
        "id": "I4KefcWL10Ip"
      },
      "execution_count": null,
      "outputs": []
    }
  ]
}